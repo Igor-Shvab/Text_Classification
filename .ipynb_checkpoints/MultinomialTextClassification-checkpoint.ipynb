{
 "cells": [
  {
   "cell_type": "markdown",
   "metadata": {},
   "source": [
    "#  <center> Multinomial Text Classification</center>\n",
    "_Author: Igor Shvab_\n",
    "\n",
    "### In this Notebook I will be building a predictive model that predicts drug rating according to customer fedback and other information.\n",
    "\n",
    "## Contents\n",
    "1. [Importing the Required Packages](#importing)\n",
    "2. [Exploratory Data Analysis](#eda)\n",
    "4. [Text Normalization](#normalization)\n",
    "5. [Text Vectorization](#vectorization)\n",
    "6. [Model Building](#build)\n",
    "8. [Model Evaluation](#evaluate)\n",
    "9. [Ensemble Model](#ensemble)\n",
    "9. [Saving Model](#save_model)\n",
    "10. [Ensemble Evaluation Metrics](#ensemble_evaluation)\n",
    "11. [Predictions](#prediction)"
   ]
  },
  {
   "cell_type": "markdown",
   "metadata": {},
   "source": [
    "<a id=\"importing\"></a>\n",
    "## 1. Importing the Required Packages"
   ]
  },
  {
   "cell_type": "code",
   "execution_count": 1,
   "metadata": {},
   "outputs": [],
   "source": [
    "from time import time\n",
    "import pandas as pd\n",
    "import seaborn as sns\n",
    "import numpy as np\n",
    "import matplotlib.pyplot as plt\n",
    "import os, pickle, warnings\n",
    "\n",
    "warnings.filterwarnings('ignore')\n",
    "%matplotlib inline\n",
    "sns.set_style('white')"
   ]
  },
  {
   "cell_type": "markdown",
   "metadata": {},
   "source": [
    "<a id=\"eda\"></a>\n",
    "## 2. Exploratory Data Analysis"
   ]
  },
  {
   "cell_type": "code",
   "execution_count": 2,
   "metadata": {},
   "outputs": [
    {
     "data": {
      "text/html": [
       "<div>\n",
       "<style>\n",
       "    .dataframe thead tr:only-child th {\n",
       "        text-align: right;\n",
       "    }\n",
       "\n",
       "    .dataframe thead th {\n",
       "        text-align: left;\n",
       "    }\n",
       "\n",
       "    .dataframe tbody tr th {\n",
       "        vertical-align: top;\n",
       "    }\n",
       "</style>\n",
       "<table border=\"1\" class=\"dataframe\">\n",
       "  <thead>\n",
       "    <tr style=\"text-align: right;\">\n",
       "      <th></th>\n",
       "      <th>drugName</th>\n",
       "      <th>condition</th>\n",
       "      <th>review</th>\n",
       "      <th>rating</th>\n",
       "      <th>date</th>\n",
       "      <th>usefulCount</th>\n",
       "    </tr>\n",
       "  </thead>\n",
       "  <tbody>\n",
       "    <tr>\n",
       "      <th>0</th>\n",
       "      <td>Mirtazapine</td>\n",
       "      <td>Depression</td>\n",
       "      <td>\"I&amp;#039;ve tried a few antidepressants over th...</td>\n",
       "      <td>10</td>\n",
       "      <td>February 28, 2012</td>\n",
       "      <td>22</td>\n",
       "    </tr>\n",
       "    <tr>\n",
       "      <th>1</th>\n",
       "      <td>Mesalamine</td>\n",
       "      <td>Crohn's Disease, Maintenance</td>\n",
       "      <td>\"My son has Crohn&amp;#039;s disease and has done ...</td>\n",
       "      <td>8</td>\n",
       "      <td>May 17, 2009</td>\n",
       "      <td>17</td>\n",
       "    </tr>\n",
       "    <tr>\n",
       "      <th>2</th>\n",
       "      <td>Bactrim</td>\n",
       "      <td>Urinary Tract Infection</td>\n",
       "      <td>\"Quick reduction of symptoms\"</td>\n",
       "      <td>9</td>\n",
       "      <td>September 29, 2017</td>\n",
       "      <td>3</td>\n",
       "    </tr>\n",
       "  </tbody>\n",
       "</table>\n",
       "</div>"
      ],
      "text/plain": [
       "      drugName                     condition  \\\n",
       "0  Mirtazapine                    Depression   \n",
       "1   Mesalamine  Crohn's Disease, Maintenance   \n",
       "2      Bactrim       Urinary Tract Infection   \n",
       "\n",
       "                                              review  rating  \\\n",
       "0  \"I&#039;ve tried a few antidepressants over th...      10   \n",
       "1  \"My son has Crohn&#039;s disease and has done ...       8   \n",
       "2                      \"Quick reduction of symptoms\"       9   \n",
       "\n",
       "                 date  usefulCount  \n",
       "0   February 28, 2012           22  \n",
       "1        May 17, 2009           17  \n",
       "2  September 29, 2017            3  "
      ]
     },
     "execution_count": 2,
     "metadata": {},
     "output_type": "execute_result"
    }
   ],
   "source": [
    "data = pd.read_table('data/drugsDataRaw.tsv')\n",
    "data.head(3)"
   ]
  },
  {
   "cell_type": "code",
   "execution_count": 3,
   "metadata": {
    "scrolled": true
   },
   "outputs": [
    {
     "name": "stdout",
     "output_type": "stream",
     "text": [
      "<class 'pandas.core.frame.DataFrame'>\n",
      "RangeIndex: 53766 entries, 0 to 53765\n",
      "Data columns (total 6 columns):\n",
      "drugName       53766 non-null object\n",
      "condition      53471 non-null object\n",
      "review         53766 non-null object\n",
      "rating         53766 non-null int64\n",
      "date           53766 non-null object\n",
      "usefulCount    53766 non-null int64\n",
      "dtypes: int64(2), object(4)\n",
      "memory usage: 2.5+ MB\n"
     ]
    }
   ],
   "source": [
    "data.info()"
   ]
  },
  {
   "cell_type": "code",
   "execution_count": 4,
   "metadata": {
    "scrolled": true
   },
   "outputs": [
    {
     "data": {
      "text/plain": [
       "drugName         0\n",
       "condition      295\n",
       "review           0\n",
       "rating           0\n",
       "date             0\n",
       "usefulCount      0\n",
       "dtype: int64"
      ]
     },
     "execution_count": 4,
     "metadata": {},
     "output_type": "execute_result"
    }
   ],
   "source": [
    "data.isnull().sum()"
   ]
  },
  {
   "cell_type": "code",
   "execution_count": 5,
   "metadata": {},
   "outputs": [],
   "source": [
    "data.condition.fillna(' ', inplace=True)"
   ]
  },
  {
   "cell_type": "code",
   "execution_count": 6,
   "metadata": {},
   "outputs": [
    {
     "data": {
      "text/plain": [
       "drugName        2637\n",
       "condition        709\n",
       "review         48280\n",
       "rating            10\n",
       "date            3566\n",
       "usefulCount      325\n",
       "dtype: int64"
      ]
     },
     "execution_count": 6,
     "metadata": {},
     "output_type": "execute_result"
    }
   ],
   "source": [
    "data.nunique()"
   ]
  },
  {
   "cell_type": "code",
   "execution_count": 7,
   "metadata": {
    "scrolled": true
   },
   "outputs": [
    {
     "data": {
      "image/png": "[encoded data removed]",
      "text/plain": [
       "<matplotlib.figure.Figure at 0x7fb5057b4940>"
      ]
     },
     "metadata": {
      "needs_background": "light"
     },
     "output_type": "display_data"
    }
   ],
   "source": [
    "plt.figure(figsize=(15,4))\n",
    "plt.hist(data.rating, bins=50)\n",
    "plt.xticks(range(1,11))\n",
    "#plt.legend(loc='best')\n",
    "plt.title('Rating distribution', fontsize=16, fontweight=\"bold\")\n",
    "plt.show()"
   ]
  },
  {
   "cell_type": "markdown",
   "metadata": {},
   "source": [
    "### This plot shows that our classes (rating) are quite imbalanced. There are much more classes with rating 1, 9, and 10 than any other class."
   ]
  },
  {
   "cell_type": "code",
   "execution_count": 8,
   "metadata": {},
   "outputs": [
    {
     "data": {
      "image/png": "[encoded data removed]",
      "text/plain": [
       "<matplotlib.figure.Figure at 0x7fb50659d518>"
      ]
     },
     "metadata": {
      "needs_background": "light"
     },
     "output_type": "display_data"
    }
   ],
   "source": [
    "plt.figure(figsize=(15,4))\n",
    "plt.scatter(data.rating, data.usefulCount)\n",
    "plt.xticks(range(1,11))\n",
    "plt.xlabel('rating', fontsize=16, fontweight=\"bold\")\n",
    "plt.ylabel('usefulCount', fontsize=16, fontweight=\"bold\")\n",
    "plt.show()"
   ]
  },
  {
   "cell_type": "markdown",
   "metadata": {},
   "source": [
    "### This plot shows that 'usefulCount' feature is not correlated with 'rating'. I am going to drop 'usefulCount' feature. "
   ]
  },
  {
   "cell_type": "code",
   "execution_count": 9,
   "metadata": {
    "scrolled": true
   },
   "outputs": [],
   "source": [
    "#np.where(pd.isnull(df))"
   ]
  },
  {
   "cell_type": "markdown",
   "metadata": {},
   "source": [
    "### Lets create one single text feature out of three"
   ]
  },
  {
   "cell_type": "code",
   "execution_count": 10,
   "metadata": {},
   "outputs": [],
   "source": [
    "data['text'] = data.drugName + ' ' + data.condition + ' ' + data.review "
   ]
  },
  {
   "cell_type": "code",
   "execution_count": 11,
   "metadata": {},
   "outputs": [
    {
     "data": {
      "text/html": [
       "<div>\n",
       "<style>\n",
       "    .dataframe thead tr:only-child th {\n",
       "        text-align: right;\n",
       "    }\n",
       "\n",
       "    .dataframe thead th {\n",
       "        text-align: left;\n",
       "    }\n",
       "\n",
       "    .dataframe tbody tr th {\n",
       "        vertical-align: top;\n",
       "    }\n",
       "</style>\n",
       "<table border=\"1\" class=\"dataframe\">\n",
       "  <thead>\n",
       "    <tr style=\"text-align: right;\">\n",
       "      <th></th>\n",
       "      <th>text</th>\n",
       "      <th>usefulCount</th>\n",
       "      <th>rating</th>\n",
       "    </tr>\n",
       "  </thead>\n",
       "  <tbody>\n",
       "    <tr>\n",
       "      <th>0</th>\n",
       "      <td>Mirtazapine Depression \"I&amp;#039;ve tried a few ...</td>\n",
       "      <td>22</td>\n",
       "      <td>10</td>\n",
       "    </tr>\n",
       "    <tr>\n",
       "      <th>1</th>\n",
       "      <td>Mesalamine Crohn's Disease, Maintenance \"My so...</td>\n",
       "      <td>17</td>\n",
       "      <td>8</td>\n",
       "    </tr>\n",
       "    <tr>\n",
       "      <th>2</th>\n",
       "      <td>Bactrim Urinary Tract Infection \"Quick reducti...</td>\n",
       "      <td>3</td>\n",
       "      <td>9</td>\n",
       "    </tr>\n",
       "  </tbody>\n",
       "</table>\n",
       "</div>"
      ],
      "text/plain": [
       "                                                text  usefulCount  rating\n",
       "0  Mirtazapine Depression \"I&#039;ve tried a few ...           22      10\n",
       "1  Mesalamine Crohn's Disease, Maintenance \"My so...           17       8\n",
       "2  Bactrim Urinary Tract Infection \"Quick reducti...            3       9"
      ]
     },
     "execution_count": 11,
     "metadata": {},
     "output_type": "execute_result"
    }
   ],
   "source": [
    "df = data[['text', 'usefulCount', 'rating']]\n",
    "df.head(3)"
   ]
  },
  {
   "cell_type": "code",
   "execution_count": 12,
   "metadata": {},
   "outputs": [
    {
     "data": {
      "text/plain": [
       "text           0\n",
       "usefulCount    0\n",
       "rating         0\n",
       "dtype: int64"
      ]
     },
     "execution_count": 12,
     "metadata": {},
     "output_type": "execute_result"
    }
   ],
   "source": [
    "df.isnull().sum()"
   ]
  },
  {
   "cell_type": "markdown",
   "metadata": {},
   "source": [
    "<a id=\"normalization\"></a>\n",
    "## 3. Text Normalisation, Tokenisation, Stemming\n",
    "\n",
    "### Here I will use my own text processing tools instead of [NLTK tokenizer](https://www.nltk.org/api/nltk.tokenize.html)"
   ]
  },
  {
   "cell_type": "code",
   "execution_count": 13,
   "metadata": {},
   "outputs": [],
   "source": [
    "import re\n",
    "import nltk\n",
    "import string\n",
    "from nltk.corpus import stopwords\n",
    "\n",
    "def text_process(mess):\n",
    "    nopunc = re.sub('[^a-zA-Z]', ' ', mess) # remove non letters\n",
    "    nopunc = nopunc.lower() # make all lower-case\n",
    "    nopunc = [char for char in nopunc if char not in string.punctuation] # remove punctuation characters\n",
    "    nopunc = ''.join(nopunc) # join the characters again to form the string.\n",
    "    nopunc = [word for word in nopunc.split() if word.lower() not in stopwords.words('english')] # remove stopwords\n",
    "    \n",
    "    return ' '.join(nopunc) # convert list to string again"
   ]
  },
  {
   "cell_type": "code",
   "execution_count": 14,
   "metadata": {
    "scrolled": true
   },
   "outputs": [
    {
     "name": "stdout",
     "output_type": "stream",
     "text": [
      "CPU times: user 10min 54s, sys: 39.4 s, total: 11min 33s\n",
      "Wall time: 11min 39s\n"
     ]
    }
   ],
   "source": [
    "%%time\n",
    "df['processed_text'] = df['text'].apply(text_process)"
   ]
  },
  {
   "cell_type": "code",
   "execution_count": 15,
   "metadata": {},
   "outputs": [],
   "source": [
    "X = df.processed_text\n",
    "y = df.rating"
   ]
  },
  {
   "cell_type": "markdown",
   "metadata": {},
   "source": [
    "<a id=\"vectorization\"></a>\n",
    "## 4. Text Vectorisation (TF-IDF)"
   ]
  },
  {
   "cell_type": "code",
   "execution_count": 17,
   "metadata": {},
   "outputs": [],
   "source": [
    "from sklearn.feature_extraction.text import CountVectorizer\n",
    "from sklearn.feature_extraction.text import TfidfTransformer"
   ]
  },
  {
   "cell_type": "markdown",
   "metadata": {},
   "source": [
    "**Bag of Words matrix**"
   ]
  },
  {
   "cell_type": "code",
   "execution_count": 18,
   "metadata": {},
   "outputs": [],
   "source": [
    "bow_transformer = CountVectorizer().fit(df['processed_text'])\n",
    "questions_bow = bow_transformer.transform(df['processed_text'])"
   ]
  },
  {
   "cell_type": "code",
   "execution_count": 19,
   "metadata": {},
   "outputs": [
    {
     "name": "stdout",
     "output_type": "stream",
     "text": [
      "Shape of Sparse Matrix:  (53766, 31715)\n",
      "Amount of Non-Zero occurences:  2024163\n"
     ]
    }
   ],
   "source": [
    "print('Shape of Sparse Matrix: ', questions_bow.shape)\n",
    "print('Amount of Non-Zero occurences: ', questions_bow.nnz)"
   ]
  },
  {
   "cell_type": "markdown",
   "metadata": {},
   "source": [
    "**TF-IDF correction to Bag of Words Matrix**"
   ]
  },
  {
   "cell_type": "code",
   "execution_count": 20,
   "metadata": {},
   "outputs": [],
   "source": [
    "tfidf_transformer = TfidfTransformer().fit(questions_bow)\n",
    "X = tfidf_transformer.transform(questions_bow)     # sparse matrix"
   ]
  },
  {
   "cell_type": "code",
   "execution_count": 21,
   "metadata": {},
   "outputs": [
    {
     "data": {
      "text/plain": [
       "(53766, 31715)"
      ]
     },
     "execution_count": 21,
     "metadata": {},
     "output_type": "execute_result"
    }
   ],
   "source": [
    "X.shape"
   ]
  },
  {
   "cell_type": "code",
   "execution_count": 22,
   "metadata": {},
   "outputs": [],
   "source": [
    "from sklearn.model_selection import train_test_split, cross_val_score, GridSearchCV\n",
    "X_train, X_test, y_train, y_test = train_test_split(X, y, test_size=0.3, random_state=101)"
   ]
  },
  {
   "cell_type": "markdown",
   "metadata": {},
   "source": [
    "<a id=\"build\"></a>\n",
    "## 5. Model Building"
   ]
  },
  {
   "cell_type": "code",
   "execution_count": 23,
   "metadata": {},
   "outputs": [],
   "source": [
    "# Machine Learning - model building libraries.\n",
    "\n",
    "from sklearn.linear_model import LogisticRegression\n",
    "from sklearn.naive_bayes import MultinomialNB\n",
    "from sklearn.svm import SVC\n",
    "from sklearn.discriminant_analysis import LinearDiscriminantAnalysis\n",
    "from sklearn.neighbors import KNeighborsClassifier\n",
    "from sklearn.ensemble import RandomForestClassifier, AdaBoostClassifier, VotingClassifier \n",
    "from xgboost import XGBClassifier\n",
    "\n",
    "from sklearn.model_selection import learning_curve, KFold\n",
    "from sklearn.metrics import confusion_matrix, classification_report, roc_curve, auc"
   ]
  },
  {
   "cell_type": "code",
   "execution_count": 24,
   "metadata": {},
   "outputs": [],
   "source": [
    "# Utility function to print the training, testing and cross validation accuracy.\n",
    "\n",
    "def print_model_score(clf, X_train, y_train, X_test, y_test, cv = 5):\n",
    "        y_train_pred = clf.predict(X_train)\n",
    "        y_test_pred = clf.predict(X_test)\n",
    "        train_score = clf.score(X_train, y_train)\n",
    "        test_score = clf.score(X_test, y_test)\n",
    "        cv_score = cross_val_score(clf, X, y, cv = 5)\n",
    "        print( \"\\033[1m%s \\033[0m\" %(clf.__class__.__name__))\n",
    "        print('Train Score: {:.2f}'.format(train_score))\n",
    "        print('Test Score:  {:.2f}'.format(test_score))\n",
    "        print(\"CV Score:    %0.2f (+/- %0.2f) \\n\" % (cv_score.mean(), cv_score.std()))\n",
    "        return train_score, test_score, cv_score"
   ]
  },
  {
   "cell_type": "markdown",
   "metadata": {},
   "source": [
    "### Given text corpus is quite big and multidimensional. Hence, distance based models like KNN and SVM wouldn't yield good results here. \n",
    "\n",
    "### Some other models like XGB were training very slowly on dual core 2.3 GHz CPU."
   ]
  },
  {
   "cell_type": "code",
   "execution_count": 25,
   "metadata": {
    "scrolled": false
   },
   "outputs": [
    {
     "name": "stdout",
     "output_type": "stream",
     "text": [
      "\u001b[1mLogisticRegression \u001b[0m\n",
      "Train Score: 0.53\n",
      "Test Score:  0.42\n",
      "CV Score:    0.43 (+/- 0.00) \n",
      "\n",
      "\u001b[1mMultinomialNB \u001b[0m\n",
      "Train Score: 0.34\n",
      "Test Score:  0.33\n",
      "CV Score:    0.33 (+/- 0.00) \n",
      "\n",
      "\u001b[1mRandomForestClassifier \u001b[0m\n",
      "Train Score: 0.99\n",
      "Test Score:  0.41\n",
      "CV Score:    0.43 (+/- 0.00) \n",
      "\n",
      "\u001b[1mXGBClassifier \u001b[0m\n",
      "Train Score: 0.39\n",
      "Test Score:  0.36\n",
      "CV Score:    0.36 (+/- 0.00) \n",
      "\n",
      "Execution time:  28.566666666666666  mins\n",
      "CPU times: user 28min 4s, sys: 1.82 s, total: 28min 6s\n",
      "Wall time: 28min 34s\n"
     ]
    }
   ],
   "source": [
    "%%time\n",
    "from datetime import datetime\n",
    "tstart = datetime.now()\n",
    "\n",
    "import warnings\n",
    "warnings.filterwarnings('ignore')\n",
    "\n",
    "LRC  = LogisticRegression()\n",
    "MNB = MultinomialNB()\n",
    "#KNN = KNeighborsClassifier()\n",
    "#SVM = SVC(probability=True)\n",
    "#LDA = LinearDiscriminantAnalysis()\n",
    "RFC = RandomForestClassifier()\n",
    "#ABC = AdaBoostClassifier()\n",
    "XGB = XGBClassifier()\n",
    "\n",
    "clfs_models = [LRC, MNB, RFC, XGB]\n",
    "clfs_names = [\"LRC\", \"MNB\", \"RFC\", \"XGB\"]\n",
    "\n",
    "train_results = []\n",
    "test_results = []\n",
    "cv_results = []\n",
    "\n",
    "for name, clf in zip(clfs_names, clfs_models):\n",
    "        clf = clf.fit(X_train, y_train)\n",
    "        train_score, test_score, cv_score = print_model_score(clf, X_train, y_train, X_test, y_test, cv = 5)\n",
    "        train_results.append(train_score)\n",
    "        test_results.append(test_score)\n",
    "        cv_results.append(cv_score)\n",
    "\n",
    "tend = datetime.now()\n",
    "print('Execution time: ',(tend - tstart).seconds/60.,' mins')"
   ]
  },
  {
   "cell_type": "markdown",
   "metadata": {},
   "source": [
    "<a id=\"evaluate\"></a>\n",
    "## 6. Evaluating Model Accuracies"
   ]
  },
  {
   "cell_type": "code",
   "execution_count": 26,
   "metadata": {},
   "outputs": [
    {
     "data": {
      "image/png": "[encoded data removed]",
      "text/plain": [
       "<matplotlib.figure.Figure at 0x7fc63fd06630>"
      ]
     },
     "metadata": {
      "needs_background": "light"
     },
     "output_type": "display_data"
    }
   ],
   "source": [
    "fig = plt.figure(figsize=(15,6))\n",
    "bar_width = 0.4\n",
    "x_pos = np.arange(len(clfs_names))\n",
    "plt.bar(x_pos, train_results, bar_width, align='center', label='Train')\n",
    "plt.bar(x_pos+bar_width, test_results, bar_width, align='center', label='Test')\n",
    "plt.xticks(x_pos, clfs_names, fontsize=28)\n",
    "plt.title('Model Comparison', fontsize=36)\n",
    "plt.ylabel('Test & Train accuracy', fontsize=32)\n",
    "plt.tick_params(axis='both', which='major', labelsize=30)\n",
    "plt.legend(bbox_to_anchor=(0.0, 1.0, 0.2, 1.0), loc=3, ncol=2, fontsize=16)\n",
    "plt.tight_layout()"
   ]
  },
  {
   "cell_type": "code",
   "execution_count": 27,
   "metadata": {},
   "outputs": [
    {
     "data": {
      "image/png": "[encoded data removed]",
      "text/plain": [
       "<matplotlib.figure.Figure at 0x7fc63fd1fe80>"
      ]
     },
     "metadata": {
      "needs_background": "light"
     },
     "output_type": "display_data"
    }
   ],
   "source": [
    "fig = plt.figure(figsize=(15,6))\n",
    "plt.boxplot(cv_results, labels=clfs_names, patch_artist=True)\n",
    "plt.ylim(0, 1.1)\n",
    "plt.title('Model Comparison', fontsize=36)\n",
    "plt.ylabel('Cross Validation accuracy', fontsize=32)\n",
    "plt.tick_params(axis='both', which='major', labelsize=28)\n",
    "plt.tight_layout()"
   ]
  },
  {
   "cell_type": "markdown",
   "metadata": {},
   "source": [
    "### As we can see accuracies are pretty bad. This is most likely feature engineering issue rather than model selection issue. \n",
    "\n",
    "### One possible way to improve accuracy would be to examine effect of combining initial three text features into one or use Doc2Vec method to create better word embeddings."
   ]
  },
  {
   "cell_type": "markdown",
   "metadata": {},
   "source": [
    "<a id=\"ensemble\"></a>\n",
    "## 7. Ensemble Model\n",
    "\n",
    "## For predictive model to be robust and not biased, one must use ensemble model, so called strong learner that consist of several weak learners. Here I am going to use 2 models with highest accuracies.\n",
    "\n",
    "### 7.1 Hyperparameters tuning"
   ]
  },
  {
   "cell_type": "code",
   "execution_count": 28,
   "metadata": {},
   "outputs": [
    {
     "name": "stdout",
     "output_type": "stream",
     "text": [
      "Hyper-parameter tuning took 2925.38 seconds for 1024 candidates.\n",
      "\n",
      " Best hyper-parameters are:\n",
      "{'n_estimators': 50, 'min_samples_leaf': 2, 'min_samples_split': 2, 'max_features': 2, 'max_depth': 5}\n",
      "\n",
      " Best score is: 0.316931\n",
      "CPU times: user 1h 32min 48s, sys: 1min 38s, total: 1h 34min 26s\n",
      "Wall time: 48min 45s\n"
     ]
    }
   ],
   "source": [
    "%%time\n",
    "RFC = RandomForestClassifier(random_state=1, n_jobs = -1)\n",
    "\n",
    "# set grid parameters range\n",
    "param_grid = {\"n_estimators\": [50, 100],\n",
    "              \"max_depth\": [5, None],\n",
    "              \"max_features\": list(range(2,6)),\n",
    "              \"min_samples_split\": list(range(2,10)),\n",
    "              \"min_samples_leaf\": list(range(2,10)),\n",
    "              }\n",
    "\n",
    "# run grid search\n",
    "grid_search = GridSearchCV(RFC, param_grid=param_grid)\n",
    "start = time()\n",
    "grid_search.fit(X_train, y_train)\n",
    "rfc_para = grid_search.best_params_\n",
    "\n",
    "print(\"Hyper-parameter tuning took %.2f seconds for %d candidates.\"\n",
    "      % (time() - start, len(grid_search.grid_scores_)))\n",
    "print(\"\\n Best hyper-parameters are:\")\n",
    "print(grid_search.best_params_)\n",
    "print(\"\\n Best score is: %f\" % (grid_search.best_score_))"
   ]
  },
  {
   "cell_type": "markdown",
   "metadata": {},
   "source": [
    "### 7.2 Ensemble Model - Voting Classifier"
   ]
  },
  {
   "cell_type": "code",
   "execution_count": 29,
   "metadata": {},
   "outputs": [
    {
     "name": "stdout",
     "output_type": "stream",
     "text": [
      "\u001b[1mVotingClassifier \u001b[0m\n",
      "Train Score: 0.43\n",
      "Test Score:  0.39\n",
      "CV Score:    0.39 (+/- 0.00) \n",
      "\n",
      "CPU times: user 44.3 s, sys: 36 ms, total: 44.4 s\n",
      "Wall time: 44.4 s\n"
     ]
    }
   ],
   "source": [
    "%%time\n",
    "RFC = RandomForestClassifier(n_estimators = rfc_para['n_estimators'], \n",
    "                                 max_depth = rfc_para['max_depth'], \n",
    "                                 max_features = rfc_para['max_features'], \n",
    "                                 min_samples_leaf = rfc_para['min_samples_leaf'], \n",
    "                                 min_samples_split = rfc_para['min_samples_split'], \n",
    "                                 random_state = 1) \n",
    "\n",
    "clfs_models = [LRC, RFC]\n",
    "clfs_names = [\"LRC\", \"RFC\"]\n",
    "\n",
    "estimators = list(zip(clfs_names, clfs_models))\n",
    "\n",
    "EVC = VotingClassifier(estimators = estimators, voting='soft', weights=None)\n",
    "EVC = EVC.fit(X_train, y_train)\n",
    "print_model_score(EVC, X_train, y_train, X_test, y_test, cv=5);"
   ]
  },
  {
   "cell_type": "markdown",
   "metadata": {},
   "source": [
    "### 7.3 Finding optimal weights"
   ]
  },
  {
   "cell_type": "code",
   "execution_count": 30,
   "metadata": {},
   "outputs": [
    {
     "name": "stdout",
     "output_type": "stream",
     "text": [
      "Top 5 models with weights\n"
     ]
    },
    {
     "data": {
      "text/html": [
       "<div>\n",
       "<style>\n",
       "    .dataframe thead tr:only-child th {\n",
       "        text-align: right;\n",
       "    }\n",
       "\n",
       "    .dataframe thead th {\n",
       "        text-align: left;\n",
       "    }\n",
       "\n",
       "    .dataframe tbody tr th {\n",
       "        vertical-align: top;\n",
       "    }\n",
       "</style>\n",
       "<table border=\"1\" class=\"dataframe\">\n",
       "  <thead>\n",
       "    <tr style=\"text-align: right;\">\n",
       "      <th></th>\n",
       "      <th>w1</th>\n",
       "      <th>w2</th>\n",
       "      <th>mean</th>\n",
       "      <th>std</th>\n",
       "    </tr>\n",
       "  </thead>\n",
       "  <tbody>\n",
       "    <tr>\n",
       "      <th>9</th>\n",
       "      <td>4.0</td>\n",
       "      <td>1.0</td>\n",
       "      <td>0.419949</td>\n",
       "      <td>0.004189</td>\n",
       "    </tr>\n",
       "    <tr>\n",
       "      <th>6</th>\n",
       "      <td>3.0</td>\n",
       "      <td>1.0</td>\n",
       "      <td>0.417941</td>\n",
       "      <td>0.004331</td>\n",
       "    </tr>\n",
       "    <tr>\n",
       "      <th>3</th>\n",
       "      <td>2.0</td>\n",
       "      <td>1.0</td>\n",
       "      <td>0.412603</td>\n",
       "      <td>0.003315</td>\n",
       "    </tr>\n",
       "    <tr>\n",
       "      <th>10</th>\n",
       "      <td>4.0</td>\n",
       "      <td>2.0</td>\n",
       "      <td>0.412603</td>\n",
       "      <td>0.003315</td>\n",
       "    </tr>\n",
       "    <tr>\n",
       "      <th>7</th>\n",
       "      <td>3.0</td>\n",
       "      <td>2.0</td>\n",
       "      <td>0.406595</td>\n",
       "      <td>0.002994</td>\n",
       "    </tr>\n",
       "  </tbody>\n",
       "</table>\n",
       "</div>"
      ],
      "text/plain": [
       "     w1   w2      mean       std\n",
       "9   4.0  1.0  0.419949  0.004189\n",
       "6   3.0  1.0  0.417941  0.004331\n",
       "3   2.0  1.0  0.412603  0.003315\n",
       "10  4.0  2.0  0.412603  0.003315\n",
       "7   3.0  2.0  0.406595  0.002994"
      ]
     },
     "execution_count": 30,
     "metadata": {},
     "output_type": "execute_result"
    }
   ],
   "source": [
    "dfw = pd.DataFrame(columns=['w1', 'w2', 'mean', 'std'])\n",
    "nmodels = len(clfs_names)\n",
    "wmax = 5  # weights\n",
    "i = 0\n",
    "for w1 in range(1, wmax):\n",
    "    for w2 in range(1, wmax):\n",
    "        if len(set((w1, w2))) == 1: # skip if all weights are equal\n",
    "            continue\n",
    "        EVC = VotingClassifier(estimators = estimators, voting='soft', weights=[w1,w2])\n",
    "        cv_scores = cross_val_score(EVC, X, y, cv=5, scoring='accuracy', n_jobs=-1) \n",
    "        dfw.loc[i] = [w1, w2, cv_scores.mean(), cv_scores.std()]\n",
    "        i += 1\n",
    "        #print(\"%d %d\" %(w1, w2))\n",
    "        #print(\"%d of %d\" %(i, (wmax-1)**nmodels))\n",
    "\n",
    "print(\"Top 5 models with weights\")\n",
    "dfw.sort_values(['mean', 'std'], ascending=[0, 1]).head(5)"
   ]
  },
  {
   "cell_type": "markdown",
   "metadata": {},
   "source": [
    "### 7.4 Building Final Ensemble Model"
   ]
  },
  {
   "cell_type": "code",
   "execution_count": 31,
   "metadata": {},
   "outputs": [
    {
     "name": "stdout",
     "output_type": "stream",
     "text": [
      "CPU times: user 5.45 s, sys: 0 ns, total: 5.45 s\n",
      "Wall time: 5.44 s\n"
     ]
    }
   ],
   "source": [
    "%%time\n",
    "w1 = dfw.sort_values(['mean', 'std'], ascending=[0, 1])['w1'].iloc[0]\n",
    "w2 = dfw.sort_values(['mean', 'std'], ascending=[0, 1])['w2'].iloc[0]\n",
    "\n",
    "EVC = VotingClassifier(estimators = estimators, voting='soft', weights=[w1, w2])\n",
    "EVC = EVC.fit(X_train, y_train)"
   ]
  },
  {
   "cell_type": "markdown",
   "metadata": {},
   "source": [
    "<a id=\"save_model\"></a>\n",
    "## 8. Saving Model"
   ]
  },
  {
   "cell_type": "code",
   "execution_count": 32,
   "metadata": {},
   "outputs": [],
   "source": [
    "if os.path.exists(\"Dumps/\"):\n",
    "    pass\n",
    "else:\n",
    "    os.mkdir('Dumps')\n",
    "    \n",
    "pickle.dump(bow_transformer, open(\"Dumps/vectorizer-bov.pickle\", \"wb\"))\n",
    "pickle.dump(tfidf_transformer, open(\"Dumps/vectorizer-tfidf.pickle\", \"wb\"))\n",
    "\n",
    "filename1 = 'Dumps/Ensemble_classifier.pickle'\n",
    "pickle.dump(EVC, open(filename1, 'wb'))"
   ]
  },
  {
   "cell_type": "markdown",
   "metadata": {},
   "source": [
    "<a id=\"ensemble_evaluation\"></a>\n",
    "## 9. Ensemble Evaluation Metrics\n",
    "### 9.1 Accuracy"
   ]
  },
  {
   "cell_type": "code",
   "execution_count": 33,
   "metadata": {},
   "outputs": [
    {
     "name": "stdout",
     "output_type": "stream",
     "text": [
      "\u001b[1mVotingClassifier \u001b[0m\n",
      "Train Score: 0.51\n",
      "Test Score:  0.42\n",
      "CV Score:    0.42 (+/- 0.00) \n",
      "\n",
      "CPU times: user 34.6 s, sys: 0 ns, total: 34.6 s\n",
      "Wall time: 34.6 s\n"
     ]
    },
    {
     "data": {
      "text/plain": [
       "(0.5054203422255288,\n",
       " 0.4181029138251705,\n",
       " array([0.41898299, 0.42309838, 0.42574165, 0.41355901, 0.4183645 ]))"
      ]
     },
     "execution_count": 33,
     "metadata": {},
     "output_type": "execute_result"
    }
   ],
   "source": [
    "%%time\n",
    "print_model_score(EVC, X_train, y_train, X_test, y_test, cv=5);"
   ]
  },
  {
   "cell_type": "markdown",
   "metadata": {},
   "source": [
    "### 9.2 Confusion Matrix"
   ]
  },
  {
   "cell_type": "code",
   "execution_count": 34,
   "metadata": {},
   "outputs": [
    {
     "data": {
      "image/png": "[encoded data removed]",
      "text/plain": [
       "<matplotlib.figure.Figure at 0x7fc63ccf45c0>"
      ]
     },
     "metadata": {
      "needs_background": "light"
     },
     "output_type": "display_data"
    }
   ],
   "source": [
    "from sklearn.model_selection import train_test_split\n",
    "from sklearn.metrics import confusion_matrix,classification_report\n",
    "\n",
    "classes = range(1,11)\n",
    "\n",
    "y_test_pred = EVC.predict(X_test)\n",
    "conf_matrix = confusion_matrix(y_test, y_test_pred)\n",
    "df_cm = pd.DataFrame(conf_matrix, index = classes, columns = classes)\n",
    "\n",
    "plt.figure(figsize = (17,10))\n",
    "sns.heatmap(df_cm, square=True, cmap=\"Blues\", annot=True, annot_kws={\"size\": 15}, cbar=True)\n",
    "plt.title('Confusion Matrix', fontsize=20)\n",
    "plt.ylabel('True lable', fontsize=20)\n",
    "plt.xlabel('Predicted label', fontsize=20)\n",
    "plt.tick_params(axis='both', which='major', labelsize=18)\n",
    "plt.tight_layout()"
   ]
  },
  {
   "cell_type": "code",
   "execution_count": 35,
   "metadata": {},
   "outputs": [
    {
     "data": {
      "image/png": "[encoded data removed]",
      "text/plain": [
       "<matplotlib.figure.Figure at 0x7fc63cc96fd0>"
      ]
     },
     "metadata": {
      "needs_background": "light"
     },
     "output_type": "display_data"
    }
   ],
   "source": [
    "plt.figure(figsize=(15,4))\n",
    "plt.hist(data.rating, bins=50)\n",
    "plt.xticks(range(1,11))\n",
    "#plt.legend(loc='best')\n",
    "plt.title('Rating distribution', fontsize=16, fontweight=\"bold\")\n",
    "plt.show()"
   ]
  },
  {
   "cell_type": "markdown",
   "metadata": {},
   "source": [
    "### The confusion matrix illustrates very well where low accuracy is coming from. Picture shows high number of misclassifications for off-diagonal elements especially for classes 1, 9, and 10."
   ]
  },
  {
   "cell_type": "markdown",
   "metadata": {},
   "source": [
    "### 9.3 Classification Report"
   ]
  },
  {
   "cell_type": "code",
   "execution_count": 36,
   "metadata": {},
   "outputs": [
    {
     "name": "stdout",
     "output_type": "stream",
     "text": [
      "             precision    recall  f1-score   support\n",
      "\n",
      "          1       0.48      0.67      0.56      2190\n",
      "          2       0.14      0.01      0.02       680\n",
      "          3       0.22      0.01      0.03       670\n",
      "          4       0.38      0.01      0.01       512\n",
      "          5       0.24      0.03      0.06       818\n",
      "          6       0.50      0.01      0.02       652\n",
      "          7       0.27      0.02      0.03       929\n",
      "          8       0.24      0.10      0.15      1850\n",
      "          9       0.27      0.18      0.22      2741\n",
      "         10       0.44      0.89      0.59      5088\n",
      "\n",
      "avg / total       0.35      0.42      0.32     16130\n",
      "\n"
     ]
    }
   ],
   "source": [
    "print(classification_report(y_test, y_test_pred))"
   ]
  },
  {
   "cell_type": "markdown",
   "metadata": {},
   "source": [
    "## Recall column has particularly low values. If business problem is more tolerant towards False Positives rather than False Negatives, than we should modify our acceptance threshold probability which is 0.5 by default."
   ]
  },
  {
   "cell_type": "markdown",
   "metadata": {},
   "source": [
    "### 9.4 Learning Curve - shows how accuracy improves with size of training set"
   ]
  },
  {
   "cell_type": "code",
   "execution_count": 37,
   "metadata": {
    "scrolled": false
   },
   "outputs": [
    {
     "data": {
      "image/png": "[encoded data removed]",
      "text/plain": [
       "<matplotlib.figure.Figure at 0x7fc63cb28c18>"
      ]
     },
     "metadata": {
      "needs_background": "light"
     },
     "output_type": "display_data"
    }
   ],
   "source": [
    "# Plot learning curves\n",
    "n_train, train_scores, test_scores = learning_curve(\n",
    "    LRC, X, y, train_sizes=np.linspace(.1, 1, 5), cv=KFold(5, shuffle=True, random_state=1))\n",
    "\n",
    "train_scores_mean = np.mean(train_scores, axis=1)\n",
    "train_scores_std = np.std(train_scores, axis=1)\n",
    "test_scores_mean = np.mean(test_scores, axis=1)\n",
    "test_scores_std = np.std(test_scores, axis=1)\n",
    "\n",
    "fig = plt.figure(figsize=(7,5))\n",
    "plt.plot(n_train, train_scores_mean, '--', label=\"training\", color=\"r\")\n",
    "plt.plot(n_train, test_scores_mean, '-', label=\"test\", color=\"g\")\n",
    "\n",
    "plt.fill_between(n_train, train_scores_mean - train_scores_std, \n",
    "                 train_scores_mean + train_scores_std, alpha=0.3, color=\"r\")\n",
    "\n",
    "plt.fill_between(n_train, test_scores_mean - test_scores_std,\n",
    "                 test_scores_mean + test_scores_std, alpha=0.3, color=\"g\")\n",
    "\n",
    "plt.ylim(0, 1.1)\n",
    "plt.title('Learning curves', fontsize=20)\n",
    "plt.xlabel('Training set size', fontsize=20)\n",
    "plt.ylabel('Accuracy', fontsize=20)\n",
    "plt.tick_params(axis='both', which='major', labelsize=20)"
   ]
  },
  {
   "cell_type": "markdown",
   "metadata": {},
   "source": [
    "<a id=\"prediction\"></a>\n",
    "## 10. Generating predictions"
   ]
  },
  {
   "cell_type": "code",
   "execution_count": 38,
   "metadata": {},
   "outputs": [],
   "source": [
    "fName1 = 'Dumps/Ensemble_classifier.pickle'\n",
    "\n",
    "try:\n",
    "    with open(fName1, \"rb\") as input_file:\n",
    "        EVCpickle = pickle.load(input_file)\n",
    "except IOError:\n",
    "    print(\"Could not read file: {}\".format(fName2))"
   ]
  },
  {
   "cell_type": "markdown",
   "metadata": {},
   "source": [
    "### Lets quickly generate predictions for the last 10 records in training dataset as if it was new unseen data"
   ]
  },
  {
   "cell_type": "code",
   "execution_count": 39,
   "metadata": {},
   "outputs": [],
   "source": [
    "test = pd.read_csv('data/text_processed.csv')\n",
    "test = test.processed_text\n",
    "test = test.tail(10)"
   ]
  },
  {
   "cell_type": "code",
   "execution_count": 40,
   "metadata": {},
   "outputs": [],
   "source": [
    "# text normalisation, tokenization, stemming\n",
    "new = test.apply(text_process)"
   ]
  },
  {
   "cell_type": "markdown",
   "metadata": {},
   "source": [
    "**TF-IDF Sparse Matrix representation of the Test File must be o the same shape as original Sparce Matrix on which Ensemble Model was trained !!**"
   ]
  },
  {
   "cell_type": "code",
   "execution_count": 41,
   "metadata": {},
   "outputs": [],
   "source": [
    "new_bow = bow_transformer.transform(new)\n",
    "new_tfidf = tfidf_transformer.transform(new_bow)"
   ]
  },
  {
   "cell_type": "markdown",
   "metadata": {},
   "source": [
    "### Rating predictions for test file"
   ]
  },
  {
   "cell_type": "code",
   "execution_count": 42,
   "metadata": {},
   "outputs": [
    {
     "name": "stdout",
     "output_type": "stream",
     "text": [
      "[10 10 10  1 10  1  9 10  1 10]\n"
     ]
    }
   ],
   "source": [
    "print(EVCpickle.predict(new_tfidf))"
   ]
  },
  {
   "cell_type": "code",
   "execution_count": null,
   "metadata": {},
   "outputs": [],
   "source": []
  }
 ],
 "metadata": {
  "kernelspec": {
   "display_name": "Python 3",
   "language": "python",
   "name": "python3"
  },
  "language_info": {
   "codemirror_mode": {
    "name": "ipython",
    "version": 3
   },
   "file_extension": ".py",
   "mimetype": "text/x-python",
   "name": "python",
   "nbconvert_exporter": "python",
   "pygments_lexer": "ipython3",
   "version": "3.5.2"
  }
 },
 "nbformat": 4,
 "nbformat_minor": 2
}
